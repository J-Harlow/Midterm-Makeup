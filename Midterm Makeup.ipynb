{
 "cells": [
  {
   "cell_type": "markdown",
   "id": "928bb71b",
   "metadata": {},
   "source": [
    "## Create a list of 10 numbers and find out the minimum, maximum, and total (sum) of the list. "
   ]
  },
  {
   "cell_type": "code",
   "execution_count": 6,
   "id": "25a33c4e",
   "metadata": {},
   "outputs": [
    {
     "name": "stdout",
     "output_type": "stream",
     "text": [
      "1\n",
      "10\n",
      "55\n"
     ]
    }
   ],
   "source": [
    "numbers=[1,2,3,4,5,6,7,8,9,10]\n",
    "print(min(numbers))\n",
    "#\"1\"\n",
    "print(max(numbers))\n",
    "#\"10\"\n",
    "\n",
    "print(sum(numbers))\n",
    "#\"55\""
   ]
  },
  {
   "cell_type": "markdown",
   "id": "830bcc62",
   "metadata": {},
   "source": [
    "## What is a nested If statement? Get input from a user and check whether the number is odd or not. If the number is odd it is also less than or equal to 20. If not, then print relevant information."
   ]
  },
  {
   "cell_type": "code",
   "execution_count": 2,
   "id": "ddc191a6",
   "metadata": {},
   "outputs": [
    {
     "name": "stdout",
     "output_type": "stream",
     "text": [
      "Enter a number: 21\n",
      "number is odd and less than or equal to 20\n"
     ]
    }
   ],
   "source": [
    "number=int(input(\"Enter a number: \"))\n",
    "if number%2==1: \n",
    "    if number>=20:\n",
    "        print(\"number is odd and less than or equal to 20\")\n",
    "    else:\n",
    "        print(\"number is odd but not >=20\")\n",
    "else:\n",
    "    print(\"Number is even\")"
   ]
  },
  {
   "cell_type": "markdown",
   "id": "79730aea",
   "metadata": {},
   "source": [
    "## Get a user input of an integer number and check if the given number is a multiple of 11 or not. "
   ]
  },
  {
   "cell_type": "code",
   "execution_count": 13,
   "id": "924a5ad6",
   "metadata": {},
   "outputs": [
    {
     "name": "stdout",
     "output_type": "stream",
     "text": [
      "Enter an integer: t66\n",
      "Invalid input. Please enter a valid integer.\n"
     ]
    }
   ],
   "source": [
    "user_input=input(\"Enter an integer: \")\n",
    "if user_input.isdigit():\n",
    "    user_input=int(user_input)\n",
    "    if user_input%11==0:\n",
    "        print(f\"{user_input} is a multiple of 11.\")\n",
    "    else:\n",
    "        print(f\"{user_input} is not a multiple of 11.\")\n",
    "else:\n",
    "    print(\"Invalid input. Please enter a valid integer.\")\n"
   ]
  },
  {
   "cell_type": "markdown",
   "id": "8d00a07e",
   "metadata": {},
   "source": [
    "## In the United States, as of 1995, a minor is generally legally defined as a person under the age of 18. Write a code to check whether a student is a minor or not where the input will be given by users."
   ]
  },
  {
   "cell_type": "code",
   "execution_count": 3,
   "id": "af4a8649",
   "metadata": {},
   "outputs": [
    {
     "name": "stdout",
     "output_type": "stream",
     "text": [
      "Enter age: 21\n",
      " 21, you are at least 18 and no longer a minor.\n"
     ]
    }
   ],
   "source": [
    "age=int(input(\"Enter age: \"))\n",
    "if age <18:\n",
    "\n",
    "    print(f\" {age}, you are under 18 a minor.\")\n",
    "else:\n",
    "\n",
    "    print(f\" {age}, you are at least 18 and no longer a minor.\")"
   ]
  },
  {
   "cell_type": "markdown",
   "id": "abf425a7",
   "metadata": {},
   "source": [
    "## Write down a program using a for loop that prints all numbers from 1 to 15 and adds them to a list called numbers_list. \n",
    "\n",
    "## numbers_list=[1,2,3,4,...15]"
   ]
  },
  {
   "cell_type": "code",
   "execution_count": 8,
   "id": "f6e3f781",
   "metadata": {},
   "outputs": [
    {
     "name": "stdout",
     "output_type": "stream",
     "text": [
      "1\n",
      "2\n",
      "3\n",
      "4\n",
      "5\n",
      "6\n",
      "7\n",
      "8\n",
      "9\n",
      "10\n",
      "11\n",
      "12\n",
      "13\n",
      "14\n",
      "15\n",
      "The list is:  [1, 2, 3, 4, 5, 6, 7, 8, 9, 10, 11, 12, 13, 14, 15]\n"
     ]
    }
   ],
   "source": [
    "nums_list=[] \n",
    "for i in range(1,16): \n",
    "    print(i) \n",
    "    nums_list.append(i)\n",
    "print(\"The list is: \",  nums_list)"
   ]
  },
  {
   "cell_type": "code",
   "execution_count": null,
   "id": "493727e9",
   "metadata": {},
   "outputs": [],
   "source": []
  }
 ],
 "metadata": {
  "kernelspec": {
   "display_name": "Python 3 (ipykernel)",
   "language": "python",
   "name": "python3"
  },
  "language_info": {
   "codemirror_mode": {
    "name": "ipython",
    "version": 3
   },
   "file_extension": ".py",
   "mimetype": "text/x-python",
   "name": "python",
   "nbconvert_exporter": "python",
   "pygments_lexer": "ipython3",
   "version": "3.11.4"
  }
 },
 "nbformat": 4,
 "nbformat_minor": 5
}
